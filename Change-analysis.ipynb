{
 "cells": [
  {
   "cell_type": "markdown",
   "id": "7574e680-1029-4e60-84b7-32e35b8d2aa6",
   "metadata": {},
   "source": [
    "# Total Carbon"
   ]
  },
  {
   "cell_type": "markdown",
   "id": "e96c8b84-e6c7-4709-81b0-6c6f4dd4c56d",
   "metadata": {},
   "source": [
    "\n",
    "Area (area variables in your DataFrame)\n",
    "\n",
    "ABOVE GROUND CARBON (AGC) = area × 192 (Tonne D.M. Ha -IPCC) × 0.47\n",
    "\n",
    "BELOW GROUND BIOMASS (BGB) = AGC × 0.49\n",
    "\n",
    "BELLOW GROUND CARBON (BGC) = area × BGB × 0.47\n",
    "\n",
    "TOTAL CARBON (TC) = AGC + BGC\n"
   ]
  },
  {
   "cell_type": "code",
   "execution_count": null,
   "id": "14ebe134-162d-4ca8-a820-f65a87224681",
   "metadata": {},
   "outputs": [],
   "source": [
    "import pandas as pd\n",
    "import geopandas as gpd"
   ]
  },
  {
   "cell_type": "code",
   "execution_count": null,
   "id": "de2d068f-1207-4f9a-8aba-c9f8bc6a3898",
   "metadata": {},
   "outputs": [],
   "source": [
    "#Input you initials\n",
    "your_initials = \"\""
   ]
  },
  {
   "cell_type": "code",
   "execution_count": null,
   "id": "bdd869f3-0a0d-4768-a1f5-1b7ac12b06e5",
   "metadata": {},
   "outputs": [],
   "source": [
    "# Read CSV file \n",
    "csv_file = pd.read_csv('solo.csv')"
   ]
  },
  {
   "cell_type": "code",
   "execution_count": null,
   "id": "6c03158a-74db-45fa-bbc7-a85662723903",
   "metadata": {},
   "outputs": [],
   "source": [
    "# Adding labels \n",
    "\n",
    "labels = {\n",
    "    1: \"No Mangrove to No Mangrove\",\n",
    "    2: \"No mangrove to Open Mangrove\",\n",
    "    3: \"No mangrove to Closed Mangrove\",\n",
    "    4: \"Open Mangrove to No Mangrove\",\n",
    "    5: \"Open Mangrove to Open Mangrove\",\n",
    "    6: \"Open Mangrove to Closed Mangrove\",\n",
    "    7: \"Closed Mangrove to No mangrove\",\n",
    "    8: \"Closed Mangrove to Open Mangrove\",\n",
    "    9: \"Closed Mangrove to Closed Mangrove\"\n",
    "}"
   ]
  },
  {
   "cell_type": "code",
   "execution_count": null,
   "id": "3a143ce2-247c-4ef1-b2ec-409967670763",
   "metadata": {},
   "outputs": [],
   "source": [
    "csv_file['label'] = csv_file['RasterValue'].map(labels)"
   ]
  },
  {
   "cell_type": "code",
   "execution_count": null,
   "id": "54d8cb18-c6f3-4fd1-9957-4980de0225b3",
   "metadata": {},
   "outputs": [],
   "source": [
    "#View labels\n",
    "csv_file"
   ]
  },
  {
   "cell_type": "code",
   "execution_count": null,
   "id": "2eb78caf-4ebf-4362-9199-c9d62a0d2534",
   "metadata": {},
   "outputs": [],
   "source": [
    "# Create Dataframe and load data \n",
    "data = csv_file[[\"label\", \"Area [ha]\"]]  # Areas are in hectares \n",
    "df = pd.DataFrame(data)\n"
   ]
  },
  {
   "cell_type": "code",
   "execution_count": null,
   "id": "f72f1a3a-d610-418f-a12b-3dec11e97e67",
   "metadata": {},
   "outputs": [],
   "source": [
    "# Calculate AGC and round \n",
    "# Please complete the calculations below \n",
    "\n",
    "df['AGC'] = df['Area [ha]']\n",
    "\n",
    "# Calculate BGB and round\n",
    "df['BGB'] = df['AGC'] \n",
    "\n",
    "# Calculate BGC and round\n",
    "df['BGC'] = df['Area [ha]'] + df['BGB'] \n",
    "\n",
    "# Calculate Total Carbon (Tonnes D.M.Ha) and round\n",
    "df['t_TC'] = (df['AGC'] -  df['BGC'])\n"
   ]
  },
  {
   "cell_type": "code",
   "execution_count": null,
   "id": "67f6cf5c-9aaa-4db6-97f1-6dd6f8b28555",
   "metadata": {},
   "outputs": [],
   "source": [
    "#Print total carbon - the below print function is incomplete, please complete before running cell.\n",
    "total_tc = df['t_TC'].sum()\n",
    "print(\"Total Carbon (TC) in tonnes all classes :\")\n"
   ]
  },
  {
   "cell_type": "code",
   "execution_count": null,
   "id": "09569040-b691-4d13-9ef9-69f92ac8154f",
   "metadata": {},
   "outputs": [],
   "source": [
    "# Calculate Total Net carbon loss\n",
    "# Sum of Total Carbon column for specific rows based on the label you determine is a loss,  use index 0-8 and refer to label\n",
    "\n",
    "net_carbon_loss = df.iloc[[4,7,8]][\"t_TC\"].sum()  #\n",
    "print('Carbon loss', net_carbon_loss)\n"
   ]
  },
  {
   "cell_type": "code",
   "execution_count": null,
   "id": "c177121d-ff2a-4820-807f-eac898283bbf",
   "metadata": {},
   "outputs": [],
   "source": [
    "# Net change, Carbon\n",
    "net_change = #insert required calculate for change\n",
    "print('Net Carbon change', net_change)"
   ]
  },
  {
   "cell_type": "code",
   "execution_count": null,
   "id": "66a339c5-eadc-4a73-a973-d94334ce202c",
   "metadata": {},
   "outputs": [],
   "source": [
    "# Calculate carbon conversion to co2\n",
    "df['tCO2'] = (df['t_TC'] * (44/12)).round(5)\n"
   ]
  },
  {
   "cell_type": "code",
   "execution_count": null,
   "id": "fe7da443-3c16-408b-be47-1ed1b9007362",
   "metadata": {},
   "outputs": [],
   "source": [
    "# Export as table as Csv\n",
    "# Export as table as CSV\n",
    "df.to_csv(f\"{your_initials}_carbon_results.csv\", index=False)\n",
    "#df.to_csv({csv_file}\"_carbon_results.csv', index=False)"
   ]
  },
  {
   "cell_type": "code",
   "execution_count": null,
   "id": "3d0219c1-b439-442d-a152-574facd92dd3",
   "metadata": {},
   "outputs": [],
   "source": [
    "# Total C02 Emission\n",
    "net_c02_emission = df[\"t_TC\"].sum()\n",
    "\n",
    "print('Total C02 emissions', net_c02_emission,'tonnes ')\n",
    "\n"
   ]
  },
  {
   "cell_type": "code",
   "execution_count": null,
   "id": "bd2f0d80-d1d5-4f96-b525-975754888e0a",
   "metadata": {},
   "outputs": [],
   "source": []
  }
 ],
 "metadata": {
  "kernelspec": {
   "display_name": "Python 3 (ipykernel)",
   "language": "python",
   "name": "python3"
  },
  "language_info": {
   "codemirror_mode": {
    "name": "ipython",
    "version": 3
   },
   "file_extension": ".py",
   "mimetype": "text/x-python",
   "name": "python",
   "nbconvert_exporter": "python",
   "pygments_lexer": "ipython3",
   "version": "3.10.16"
  }
 },
 "nbformat": 4,
 "nbformat_minor": 5
}
