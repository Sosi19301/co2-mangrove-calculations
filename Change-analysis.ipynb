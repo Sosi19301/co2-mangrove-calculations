{
 "cells": [
  {
   "cell_type": "markdown",
   "id": "7574e680-1029-4e60-84b7-32e35b8d2aa6",
   "metadata": {},
   "source": [
    "# Total Carbon"
   ]
  },
  {
   "cell_type": "markdown",
   "id": "e96c8b84-e6c7-4709-81b0-6c6f4dd4c56d",
   "metadata": {},
   "source": [
    "\n",
    "area (a variable in your DataFrame)\n",
    "\n",
    "AGC = area × 192 × 0.47\n",
    "\n",
    "BGB = AGC × 0.49\n",
    "\n",
    "BGC = area × BGB × 0.47\n",
    "\n",
    "TC = AGC + BGC\n",
    "\n"
   ]
  },
  {
   "cell_type": "code",
   "execution_count": 1,
   "id": "14ebe134-162d-4ca8-a820-f65a87224681",
   "metadata": {},
   "outputs": [],
   "source": [
    "import pandas as pd\n",
    "import geopandas as gpd"
   ]
  },
  {
   "cell_type": "code",
   "execution_count": 2,
   "id": "bdd869f3-0a0d-4768-a1f5-1b7ac12b06e5",
   "metadata": {},
   "outputs": [],
   "source": [
    "# Read CSV file \n",
    "solo = pd.read_csv('solo.csv')"
   ]
  },
  {
   "cell_type": "code",
   "execution_count": 3,
   "id": "6c03158a-74db-45fa-bbc7-a85662723903",
   "metadata": {},
   "outputs": [],
   "source": [
    "# Adding labels \n",
    "\n",
    "labels = {\n",
    "    1: \"No mangrove\",\n",
    "    2: \"No mangrove to Open Mangrove\",\n",
    "    3: \"No mangrove to Closed Mangrove\",\n",
    "    4: \"Open Mangrove to No mangrove\",\n",
    "    5: \"Open Mangrove\",\n",
    "    6: \"Open Mangrove to Closed Mangrove\",\n",
    "    7: \"Closed Mangrove to No mangrove\",\n",
    "    8: \"Closed Mangrove to Open Mangrove\",\n",
    "    9: \"Closed Mangrove\"\n",
    "}"
   ]
  },
  {
   "cell_type": "code",
   "execution_count": 4,
   "id": "3a143ce2-247c-4ef1-b2ec-409967670763",
   "metadata": {},
   "outputs": [],
   "source": [
    "solo['label'] = solo['RasterValue'].map(labels)"
   ]
  },
  {
   "cell_type": "code",
   "execution_count": 5,
   "id": "54d8cb18-c6f3-4fd1-9957-4980de0225b3",
   "metadata": {},
   "outputs": [
    {
     "data": {
      "text/html": [
       "<div>\n",
       "<style scoped>\n",
       "    .dataframe tbody tr th:only-of-type {\n",
       "        vertical-align: middle;\n",
       "    }\n",
       "\n",
       "    .dataframe tbody tr th {\n",
       "        vertical-align: top;\n",
       "    }\n",
       "\n",
       "    .dataframe thead th {\n",
       "        text-align: right;\n",
       "    }\n",
       "</style>\n",
       "<table border=\"1\" class=\"dataframe\">\n",
       "  <thead>\n",
       "    <tr style=\"text-align: right;\">\n",
       "      <th></th>\n",
       "      <th>RasterValue</th>\n",
       "      <th>Reference</th>\n",
       "      <th>Classification</th>\n",
       "      <th>PixelSum</th>\n",
       "      <th>Area [ha]</th>\n",
       "      <th>label</th>\n",
       "    </tr>\n",
       "  </thead>\n",
       "  <tbody>\n",
       "    <tr>\n",
       "      <th>0</th>\n",
       "      <td>1</td>\n",
       "      <td>0</td>\n",
       "      <td>0</td>\n",
       "      <td>18397</td>\n",
       "      <td>183.97</td>\n",
       "      <td>No mangrove</td>\n",
       "    </tr>\n",
       "    <tr>\n",
       "      <th>1</th>\n",
       "      <td>2</td>\n",
       "      <td>1</td>\n",
       "      <td>0</td>\n",
       "      <td>1578</td>\n",
       "      <td>15.78</td>\n",
       "      <td>No mangrove to Open Mangrove</td>\n",
       "    </tr>\n",
       "    <tr>\n",
       "      <th>2</th>\n",
       "      <td>3</td>\n",
       "      <td>0</td>\n",
       "      <td>1</td>\n",
       "      <td>3666</td>\n",
       "      <td>36.66</td>\n",
       "      <td>No mangrove to Closed Mangrove</td>\n",
       "    </tr>\n",
       "    <tr>\n",
       "      <th>3</th>\n",
       "      <td>4</td>\n",
       "      <td>2</td>\n",
       "      <td>0</td>\n",
       "      <td>188</td>\n",
       "      <td>1.88</td>\n",
       "      <td>Open Mangrove to No mangrove</td>\n",
       "    </tr>\n",
       "    <tr>\n",
       "      <th>4</th>\n",
       "      <td>5</td>\n",
       "      <td>1</td>\n",
       "      <td>1</td>\n",
       "      <td>22930</td>\n",
       "      <td>229.30</td>\n",
       "      <td>Open Mangrove</td>\n",
       "    </tr>\n",
       "    <tr>\n",
       "      <th>5</th>\n",
       "      <td>6</td>\n",
       "      <td>0</td>\n",
       "      <td>2</td>\n",
       "      <td>77</td>\n",
       "      <td>0.77</td>\n",
       "      <td>Open Mangrove to Closed Mangrove</td>\n",
       "    </tr>\n",
       "    <tr>\n",
       "      <th>6</th>\n",
       "      <td>7</td>\n",
       "      <td>2</td>\n",
       "      <td>1</td>\n",
       "      <td>9401</td>\n",
       "      <td>94.01</td>\n",
       "      <td>Closed Mangrove to No mangrove</td>\n",
       "    </tr>\n",
       "    <tr>\n",
       "      <th>7</th>\n",
       "      <td>8</td>\n",
       "      <td>1</td>\n",
       "      <td>2</td>\n",
       "      <td>13782</td>\n",
       "      <td>137.82</td>\n",
       "      <td>Closed Mangrove to Open Mangrove</td>\n",
       "    </tr>\n",
       "    <tr>\n",
       "      <th>8</th>\n",
       "      <td>9</td>\n",
       "      <td>2</td>\n",
       "      <td>2</td>\n",
       "      <td>332092</td>\n",
       "      <td>3320.92</td>\n",
       "      <td>Closed Mangrove</td>\n",
       "    </tr>\n",
       "  </tbody>\n",
       "</table>\n",
       "</div>"
      ],
      "text/plain": [
       "   RasterValue  Reference  Classification  PixelSum  Area [ha]  \\\n",
       "0            1          0               0     18397     183.97   \n",
       "1            2          1               0      1578      15.78   \n",
       "2            3          0               1      3666      36.66   \n",
       "3            4          2               0       188       1.88   \n",
       "4            5          1               1     22930     229.30   \n",
       "5            6          0               2        77       0.77   \n",
       "6            7          2               1      9401      94.01   \n",
       "7            8          1               2     13782     137.82   \n",
       "8            9          2               2    332092    3320.92   \n",
       "\n",
       "                              label  \n",
       "0                       No mangrove  \n",
       "1      No mangrove to Open Mangrove  \n",
       "2    No mangrove to Closed Mangrove  \n",
       "3      Open Mangrove to No mangrove  \n",
       "4                     Open Mangrove  \n",
       "5  Open Mangrove to Closed Mangrove  \n",
       "6    Closed Mangrove to No mangrove  \n",
       "7  Closed Mangrove to Open Mangrove  \n",
       "8                   Closed Mangrove  "
      ]
     },
     "execution_count": 5,
     "metadata": {},
     "output_type": "execute_result"
    }
   ],
   "source": [
    "#View labels\n",
    "solo"
   ]
  },
  {
   "cell_type": "code",
   "execution_count": 6,
   "id": "2eb78caf-4ebf-4362-9199-c9d62a0d2534",
   "metadata": {},
   "outputs": [],
   "source": [
    "# Sample data for test \n",
    "data = solo[[\"label\", \"Area [ha]\"]]  # Areas are in hectares \n",
    "df = pd.DataFrame(data)\n"
   ]
  },
  {
   "cell_type": "code",
   "execution_count": 7,
   "id": "f72f1a3a-d610-418f-a12b-3dec11e97e67",
   "metadata": {},
   "outputs": [],
   "source": [
    "\n",
    "# Calculate AGC and round\n",
    "df['AGC'] = (df['Area [ha]'] * 192 * 0.47).round(5)\n",
    "\n",
    "# Calculate BGB and round\n",
    "df['BGB'] = (df['AGC'] * 0.49).round(5)\n",
    "\n",
    "# Calculate BGC and round\n",
    "df['BGC'] = (df['Area [ha]'] * df['BGB'] * 0.47).round(5)\n",
    "\n",
    "# Calculate Total Carbon and round\n",
    "df['t_TC'] = (df['AGC'] + df['BGC']).round(5)\n"
   ]
  },
  {
   "cell_type": "code",
   "execution_count": 8,
   "id": "67f6cf5c-9aaa-4db6-97f1-6dd6f8b28555",
   "metadata": {},
   "outputs": [
    {
     "name": "stdout",
     "output_type": "stream",
     "text": [
      "Total Carbon (TC) in tonnes classes 1-9: 231968036.06511\n"
     ]
    }
   ],
   "source": [
    "total_tc = df['t_TC'].sum()\n",
    "print(\"Total Carbon (TC) in tonnes classes 1-9:\", total_tc)\n"
   ]
  },
  {
   "cell_type": "code",
   "execution_count": 9,
   "id": "09569040-b691-4d13-9ef9-69f92ac8154f",
   "metadata": {},
   "outputs": [
    {
     "name": "stdout",
     "output_type": "stream",
     "text": [
      "Carbon loss 231017742.23103002\n"
     ]
    }
   ],
   "source": [
    "# Calculate Total Net carbon loss\n",
    "# Sum of Total Carbon column for specific rows based on the label you determine is a loss,  use index 0-8 and refer to label\n",
    "\n",
    "net_carbon_loss = df.iloc[[4,7,8]][\"t_TC\"].sum()  #\n",
    "print('Carbon loss', net_carbon_loss)\n"
   ]
  },
  {
   "cell_type": "code",
   "execution_count": 10,
   "id": "c177121d-ff2a-4820-807f-eac898283bbf",
   "metadata": {},
   "outputs": [
    {
     "name": "stdout",
     "output_type": "stream",
     "text": [
      "Net Carbon change 950293.8340799809\n"
     ]
    }
   ],
   "source": [
    "net_change = total_tc - net_carbon_loss\n",
    "print('Net Carbon change', net_change)"
   ]
  },
  {
   "cell_type": "code",
   "execution_count": 11,
   "id": "66a339c5-eadc-4a73-a973-d94334ce202c",
   "metadata": {},
   "outputs": [
    {
     "data": {
      "text/html": [
       "<div>\n",
       "<style scoped>\n",
       "    .dataframe tbody tr th:only-of-type {\n",
       "        vertical-align: middle;\n",
       "    }\n",
       "\n",
       "    .dataframe tbody tr th {\n",
       "        vertical-align: top;\n",
       "    }\n",
       "\n",
       "    .dataframe thead th {\n",
       "        text-align: right;\n",
       "    }\n",
       "</style>\n",
       "<table border=\"1\" class=\"dataframe\">\n",
       "  <thead>\n",
       "    <tr style=\"text-align: right;\">\n",
       "      <th></th>\n",
       "      <th>label</th>\n",
       "      <th>Area [ha]</th>\n",
       "      <th>AGC</th>\n",
       "      <th>BGB</th>\n",
       "      <th>BGC</th>\n",
       "      <th>t_TC</th>\n",
       "      <th>tCO2</th>\n",
       "    </tr>\n",
       "  </thead>\n",
       "  <tbody>\n",
       "    <tr>\n",
       "      <th>0</th>\n",
       "      <td>No mangrove</td>\n",
       "      <td>183.97</td>\n",
       "      <td>16601.4528</td>\n",
       "      <td>8134.71187</td>\n",
       "      <td>7.033752e+05</td>\n",
       "      <td>7.199766e+05</td>\n",
       "      <td>2.639914e+06</td>\n",
       "    </tr>\n",
       "    <tr>\n",
       "      <th>1</th>\n",
       "      <td>No mangrove to Open Mangrove</td>\n",
       "      <td>15.78</td>\n",
       "      <td>1423.9872</td>\n",
       "      <td>697.75373</td>\n",
       "      <td>5.174960e+03</td>\n",
       "      <td>6.598948e+03</td>\n",
       "      <td>2.419614e+04</td>\n",
       "    </tr>\n",
       "    <tr>\n",
       "      <th>2</th>\n",
       "      <td>No mangrove to Closed Mangrove</td>\n",
       "      <td>36.66</td>\n",
       "      <td>3308.1984</td>\n",
       "      <td>1621.01722</td>\n",
       "      <td>2.793045e+04</td>\n",
       "      <td>3.123865e+04</td>\n",
       "      <td>1.145417e+05</td>\n",
       "    </tr>\n",
       "    <tr>\n",
       "      <th>3</th>\n",
       "      <td>Open Mangrove to No mangrove</td>\n",
       "      <td>1.88</td>\n",
       "      <td>169.6512</td>\n",
       "      <td>83.12909</td>\n",
       "      <td>7.345286e+01</td>\n",
       "      <td>2.431041e+02</td>\n",
       "      <td>8.913815e+02</td>\n",
       "    </tr>\n",
       "    <tr>\n",
       "      <th>4</th>\n",
       "      <td>Open Mangrove</td>\n",
       "      <td>229.30</td>\n",
       "      <td>20692.0320</td>\n",
       "      <td>10139.09568</td>\n",
       "      <td>1.092700e+06</td>\n",
       "      <td>1.113393e+06</td>\n",
       "      <td>4.082439e+06</td>\n",
       "    </tr>\n",
       "    <tr>\n",
       "      <th>5</th>\n",
       "      <td>Open Mangrove to Closed Mangrove</td>\n",
       "      <td>0.77</td>\n",
       "      <td>69.4848</td>\n",
       "      <td>34.04755</td>\n",
       "      <td>1.232181e+01</td>\n",
       "      <td>8.180661e+01</td>\n",
       "      <td>2.999576e+02</td>\n",
       "    </tr>\n",
       "    <tr>\n",
       "      <th>6</th>\n",
       "      <td>Closed Mangrove to No mangrove</td>\n",
       "      <td>94.01</td>\n",
       "      <td>8483.4624</td>\n",
       "      <td>4156.89658</td>\n",
       "      <td>1.836712e+05</td>\n",
       "      <td>1.921547e+05</td>\n",
       "      <td>7.045672e+05</td>\n",
       "    </tr>\n",
       "    <tr>\n",
       "      <th>7</th>\n",
       "      <td>Closed Mangrove to Open Mangrove</td>\n",
       "      <td>137.82</td>\n",
       "      <td>12436.8768</td>\n",
       "      <td>6094.06963</td>\n",
       "      <td>3.947458e+05</td>\n",
       "      <td>4.071827e+05</td>\n",
       "      <td>1.493003e+06</td>\n",
       "    </tr>\n",
       "    <tr>\n",
       "      <th>8</th>\n",
       "      <td>Closed Mangrove</td>\n",
       "      <td>3320.92</td>\n",
       "      <td>299679.8208</td>\n",
       "      <td>146843.11219</td>\n",
       "      <td>2.291975e+08</td>\n",
       "      <td>2.294972e+08</td>\n",
       "      <td>8.414896e+08</td>\n",
       "    </tr>\n",
       "  </tbody>\n",
       "</table>\n",
       "</div>"
      ],
      "text/plain": [
       "                              label  Area [ha]          AGC           BGB  \\\n",
       "0                       No mangrove     183.97   16601.4528    8134.71187   \n",
       "1      No mangrove to Open Mangrove      15.78    1423.9872     697.75373   \n",
       "2    No mangrove to Closed Mangrove      36.66    3308.1984    1621.01722   \n",
       "3      Open Mangrove to No mangrove       1.88     169.6512      83.12909   \n",
       "4                     Open Mangrove     229.30   20692.0320   10139.09568   \n",
       "5  Open Mangrove to Closed Mangrove       0.77      69.4848      34.04755   \n",
       "6    Closed Mangrove to No mangrove      94.01    8483.4624    4156.89658   \n",
       "7  Closed Mangrove to Open Mangrove     137.82   12436.8768    6094.06963   \n",
       "8                   Closed Mangrove    3320.92  299679.8208  146843.11219   \n",
       "\n",
       "            BGC          t_TC          tCO2  \n",
       "0  7.033752e+05  7.199766e+05  2.639914e+06  \n",
       "1  5.174960e+03  6.598948e+03  2.419614e+04  \n",
       "2  2.793045e+04  3.123865e+04  1.145417e+05  \n",
       "3  7.345286e+01  2.431041e+02  8.913815e+02  \n",
       "4  1.092700e+06  1.113393e+06  4.082439e+06  \n",
       "5  1.232181e+01  8.180661e+01  2.999576e+02  \n",
       "6  1.836712e+05  1.921547e+05  7.045672e+05  \n",
       "7  3.947458e+05  4.071827e+05  1.493003e+06  \n",
       "8  2.291975e+08  2.294972e+08  8.414896e+08  "
      ]
     },
     "execution_count": 11,
     "metadata": {},
     "output_type": "execute_result"
    }
   ],
   "source": [
    "# Calculate carbon conversion to co2\n",
    "df['tCO2'] = (df['t_TC'] * (44/12)).round(5)\n",
    "\n",
    "df\n"
   ]
  },
  {
   "cell_type": "code",
   "execution_count": 12,
   "id": "fe7da443-3c16-408b-be47-1ed1b9007362",
   "metadata": {},
   "outputs": [],
   "source": [
    "df.to_csv('carbon_results.csv', index=False)\n",
    "#df"
   ]
  },
  {
   "cell_type": "code",
   "execution_count": null,
   "id": "3d0219c1-b439-442d-a152-574facd92dd3",
   "metadata": {},
   "outputs": [],
   "source": []
  }
 ],
 "metadata": {
  "kernelspec": {
   "display_name": "Python 3 (ipykernel)",
   "language": "python",
   "name": "python3"
  },
  "language_info": {
   "codemirror_mode": {
    "name": "ipython",
    "version": 3
   },
   "file_extension": ".py",
   "mimetype": "text/x-python",
   "name": "python",
   "nbconvert_exporter": "python",
   "pygments_lexer": "ipython3",
   "version": "3.10.16"
  }
 },
 "nbformat": 4,
 "nbformat_minor": 5
}
