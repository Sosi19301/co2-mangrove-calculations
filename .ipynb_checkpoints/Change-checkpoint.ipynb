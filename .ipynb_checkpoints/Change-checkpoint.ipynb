{
 "cells": [
  {
   "cell_type": "markdown",
   "id": "7574e680-1029-4e60-84b7-32e35b8d2aa6",
   "metadata": {},
   "source": [
    "# Total Carbon"
   ]
  },
  {
   "cell_type": "markdown",
   "id": "d178c767-3d52-45e5-8957-67ef1991a1e8",
   "metadata": {},
   "source": [
    "\n",
    "area (a variable in your DataFrame)\n",
    "\n",
    "AGC = area × 192 × 0.47\n",
    "\n",
    "BGB = AGC × 0.49\n",
    "\n",
    "BGC = area × BGB × 0.47\n",
    "\n",
    "TC = AGC + BGC\n",
    "\n"
   ]
  },
  {
   "cell_type": "code",
   "execution_count": 5,
   "id": "14ebe134-162d-4ca8-a820-f65a87224681",
   "metadata": {},
   "outputs": [],
   "source": [
    "import pandas as pd\n",
    "import geopandas as gpd"
   ]
  },
  {
   "cell_type": "code",
   "execution_count": null,
   "id": "53e345ca-dd27-4278-8400-b72a091ba53b",
   "metadata": {},
   "outputs": [],
   "source": [
    "# File setup \n",
    "gdf = gpd.read_file(\"path/to/your_file.shp\")\n",
    "gdf.head()\n"
   ]
  },
  {
   "cell_type": "code",
   "execution_count": null,
   "id": "d372ccc4-12d6-4c52-ad10-2b356d9e25a4",
   "metadata": {},
   "outputs": [],
   "source": [
    "# Calculate AGC\n",
    "gdf['AGC'] = gdf['area'] * 192 * 0.47\n",
    "\n",
    "# Calculate BGB\n",
    "gdf['BGB'] = gdf['AGC'] * 0.49\n",
    "\n",
    "# Calculate BGC\n",
    "gdf['BGC'] = gdf['area'] * gdf['BGB'] * 0.47\n",
    "\n",
    "# Calculate Total Carbon (TC)\n",
    "gdf['TC'] = gdf['AGC'] + gdf['BGC']\n",
    "\n",
    "# View updated table\n",
    "gdf[['area', 'AGC', 'BGB', 'BGC', 'TC']].head()\n"
   ]
  },
  {
   "cell_type": "code",
   "execution_count": null,
   "id": "41fcfec1-1206-42ec-9f9b-08b9c938e0a8",
   "metadata": {},
   "outputs": [],
   "source": [
    "# Save the updated shapefile\n",
    "gdf.to_file(\"path/to/output_with_carbon.shp\")\n"
   ]
  }
 ],
 "metadata": {
  "kernelspec": {
   "display_name": "Python 3 (ipykernel)",
   "language": "python",
   "name": "python3"
  },
  "language_info": {
   "codemirror_mode": {
    "name": "ipython",
    "version": 3
   },
   "file_extension": ".py",
   "mimetype": "text/x-python",
   "name": "python",
   "nbconvert_exporter": "python",
   "pygments_lexer": "ipython3",
   "version": "3.10.16"
  }
 },
 "nbformat": 4,
 "nbformat_minor": 5
}
